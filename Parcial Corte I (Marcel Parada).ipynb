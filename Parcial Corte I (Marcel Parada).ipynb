{
 "cells": [
  {
   "cell_type": "markdown",
   "metadata": {},
   "source": [
    "# PARCIAL 1 CORTE\n",
    "### Marcel Parada Villamizar\n",
    "1. Quitar la linea base \n",
    "2. Buscar el pico de cada pulso\n",
    "3. calcular la carga \n",
    "4. aplicar el criterio de  Q/P\n",
    "5. Hallar el delta tiempo"
   ]
  },
  {
   "cell_type": "code",
   "execution_count": 26,
   "metadata": {},
   "outputs": [],
   "source": [
    "#Aqui tomamos todos los datos de todos los bines y los tiempos, ademas de que quitamos la linea base; \n",
    "#por tanto se le resta -50 y con esto tenemos el verdadero valor de cada pulso\n",
    "\n",
    "import bz2\n",
    "from numpy import zeros\n",
    "from pylab import *\n",
    "\n",
    "n = 0\n",
    "lista=[]\n",
    "lista_deltiempo=[]\n",
    "#with bz2.open( input (\"Please, enter the filename: \"), \"rt\" ) as bz_file:\n",
    "\n",
    "with bz2.open(\"Chitaga_2016_08_12_12h00.dat.bz2\", \"rt\" ) as bz_file:\n",
    "\n",
    "     for line in bz_file:\n",
    "        rline = line.rstrip('\\n').split(' ')\n",
    "        if len(rline)==3:\n",
    "            if rline[0]==\"#\":\n",
    "                ln=0\n",
    "                #lista.append(int(rline[3]))\n",
    "            if rline[0]!=\"#\":\n",
    "                if ln >= 0: \n",
    "                 \n",
    "                    lista.append(int(rline[0])-50)\n",
    "        if len(rline)==4:\n",
    "            if rline[0]==\"#\" and rline[1]== \"t\":\n",
    "                ln=0\n",
    "                lista_deltiempo.append(int(rline[3]))\n",
    "                    \n",
    "               # else:\n",
    "                   # ln += 1                    \n",
    "            #print( rline[0],rline[1],rline[2],)\n",
    "            #print(\"lista\",lista)\n",
    "        n += 1\n",
    "        #if n == 91:\n",
    "           #break\n",
    "            "
   ]
  },
  {
   "cell_type": "code",
   "execution_count": 28,
   "metadata": {},
   "outputs": [
    {
     "name": "stdout",
     "output_type": "stream",
     "text": [
      " la longitud del el contador de tiempo 749617\n",
      "8995511 749617\n"
     ]
    }
   ],
   "source": [
    "#print(\"lista\",lista)\n",
    "#print(\" lista del contador del tiempo es: \", lista_deltiempo)\n",
    "print(\" la longitud del el contador de tiempo\", len(lista_deltiempo))\n",
    "print((len(lista)-9), int(len(lista)/12 - 9) )"
   ]
  },
  {
   "cell_type": "code",
   "execution_count": 29,
   "metadata": {},
   "outputs": [
    {
     "name": "stdout",
     "output_type": "stream",
     "text": [
      "749617\n",
      "\n",
      " la longitud de la lista de los picos: \n",
      " 749617\n"
     ]
    }
   ],
   "source": [
    "#Creamos una función la cual nos permite crear una lista de cada 12 pulsos se parados,\n",
    "#y aquellas que no cumplen no serán tomadas; una vez teniendo la lista de los 12 pulsos\n",
    "\n",
    "def funcion(n,r,m):\n",
    "    lista=[]\n",
    "    for i in range(r,m):\n",
    "        lista.append(n[i])\n",
    "    return(lista)\n",
    "n=0\n",
    "n1=12\n",
    "\n",
    "y1=int(len(lista)/12)-9\n",
    "print(y1)\n",
    "tnuevo=[]\n",
    "for i in range(y1):\n",
    "    tnuevo.append(funcion(lista,n,n1))\n",
    "    \n",
    "    n=n+12\n",
    "    n1=n1+12\n",
    "#print(\"\\n lista que separa los pulsos 12 datos: \\n \",tnuevo)\n",
    "\n",
    "#buscamos el pico mayor de cada pulso y lo guardamos en una nueva lista llamado Picos\n",
    "Picos=[]\n",
    "for k in range(y1):\n",
    "    Picos.append(max(tnuevo[k]))\n",
    "#print(\"los valores maximos de picos son: \",Picos)\n",
    "print(\"\\n la longitud de la lista de los picos: \\n\",len(Picos))\n",
    "\n",
    "             \n",
    "\n"
   ]
  },
  {
   "cell_type": "code",
   "execution_count": 30,
   "metadata": {},
   "outputs": [
    {
     "name": "stdout",
     "output_type": "stream",
     "text": [
      "la longitud del vector de la carga es:  749617\n"
     ]
    }
   ],
   "source": [
    "#Como ya tenemos una lista de lista, y cada una de 12, sumamos los pulsos con el fin de obtener la sumatoria de los\n",
    "#voltajes y asi tener la carga es decir Q; una vez obtenido este Q se guardará en una lista. Luego aplicamos\n",
    "#el criterio Q/P>2 para ver que tiempos son validos y esos tiempos son los que guardamos.\n",
    "\n",
    "def funcion(n,r,m):\n",
    "    lista=[]\n",
    "    x=0\n",
    "    for i in range(r,m):\n",
    "        x=x+n[i]\n",
    "    \n",
    "    return(x)\n",
    "n=0\n",
    "n1=12\n",
    "#y=int(len(lista)/12)\n",
    "#print(y)\n",
    "Q=[]\n",
    "for i in range(y1):\n",
    "    Q.append(funcion(lista,n,n1))\n",
    "    n=n+12\n",
    "    n1=n1+12\n",
    "    \n",
    "#print( \"\\n El valor de la carga  con valores con la linea base es: \\n \",Q)\n",
    "print(\"la longitud del vector de la carga es: \",len(Q))\n",
    "#hallemos el valor q/p\n",
    "\n",
    "qp=[]\n",
    "qpno=[]\n",
    "listadelttiem=[]\n",
    "for i in range(y1):\n",
    "    f=Q[i]/Picos[i]\n",
    "    if f > 2:\n",
    "        qp.append(f)\n",
    "        listadelttiem.append(lista_deltiempo[i])\n",
    "    else:\n",
    "        qpno.append(f)\n",
    "\n",
    "        \n",
    "#print(\"\\n Los siguientes valores en la lista son señales: \\n\",qp)\n",
    "#print(\"\\n la lista de contadores de tiempo que cumplen el criterio  anterior es: \\n\",listadelttiem)\n",
    "#print(\"\\n Los siguientes valores en la lista no son señales: \\n\",qpno)       \n",
    "#print(\" el valor maximo es : \", max(qp))\n",
    "#plot(qp)\n",
    "#show()\n",
    "#print()"
   ]
  },
  {
   "cell_type": "code",
   "execution_count": 24,
   "metadata": {},
   "outputs": [
    {
     "name": "stdout",
     "output_type": "stream",
     "text": [
      "El valor maximo es:  31259296\n",
      "El valor minimo es:  15\n"
     ]
    },
    {
     "data": {
      "image/png": "[encoded data removed]",
      "text/plain": [
       "<Figure size 432x288 with 1 Axes>"
      ]
     },
     "metadata": {
      "needs_background": "light"
     },
     "output_type": "display_data"
    }
   ],
   "source": [
    "# Aqui hacemos la diferencia de los tiempos y luego graficamos la lista del delta de tiempo \n",
    "y=len(listadelttiem)\n",
    "listadelta=[]\n",
    "for i in range(y):\n",
    "    if i+1 < y:\n",
    "        x=listadelttiem[i+1]-listadelttiem[i]\n",
    "        if x > 0 :\n",
    "        #print(x)\n",
    "            listadelta.append(x) #0.0010\n",
    "#print(\"\\n Los valores de la lista con la resta de los tiempos : \\n\", listadelta)\n",
    "print(\"El valor maximo es: \",max(listadelta))\n",
    "print(\"El valor minimo es: \",min(listadelta))\n",
    "plot(listadelta)\n",
    "show()\n"
   ]
  },
  {
   "cell_type": "code",
   "execution_count": 25,
   "metadata": {},
   "outputs": [
    {
     "data": {
      "image/png": "[encoded data removed]",
      "text/plain": [
       "<Figure size 432x288 with 1 Axes>"
      ]
     },
     "metadata": {
      "needs_background": "light"
     },
     "output_type": "display_data"
    }
   ],
   "source": [
    "#Creamos el Histograma del Delta del tiempo\n",
    "hist1 = [] # Array for histogram\n",
    "startBin = 0\n",
    "endBin = 32000000\n",
    "nbins = 320000\n",
    "binwidth = int((endBin - startBin) / nbins)\n",
    "\n",
    "[hist1.append(0) for i in range(nbins)] # Inizialiting histo\n",
    "#print(len(hist1))\n",
    "# Filling histogram\n",
    "for j in listadelta :\n",
    "    hist1[ int((j)/binwidth) ] += 1\n",
    "\n",
    "\n",
    "\n",
    "bines1=[]\n",
    "[bines1.append((i)*binwidth) for i in range(nbins)]\n",
    "# Histograma del criterio q/p\n",
    "plot(bines1, hist1, 'o-')\n",
    "xlabel('Bines ')\n",
    "ylabel('Datos')\n",
    "#yscale('log')\n",
    "xlim(0,5000)\n",
    "#ylim(1000,)\n",
    "show()\n"
   ]
  },
  {
   "cell_type": "markdown",
   "metadata": {},
   "source": [
    "# Sustentación\n",
    "\n",
    "1) Al comienzo a cada uno de los pulsos se le quito la linea base la cual es de 50, esto con el fin de obtener el voltaje real\n",
    "\n",
    "2) Se creo lista de lista para cada 12 bines y se hallo el pico mayor, este pico mayor es el voltaje mas alto de los 12 bines, y se guardo en una lista\n",
    "\n",
    "3) Sumamos los voltajes para obtener la carga de cada 12 bines\n",
    "\n",
    "4) Aplicamos el criterio P/Q>2 con el fin de saber caules de todos estos son señal y aquellos que cumplen son los tiempos que tomamos y de paso quitamos la diferencia de ruido-señal\n",
    "\n",
    "5) Se hizo la difrencia de tiempos de aquellos que fueron señal para obtner el delta de tiempo y de este se hizo el histograma, esta grafica se limito de 0 a 5000 para una mejor observación de los bines"
   ]
  },
  {
   "cell_type": "code",
   "execution_count": null,
   "metadata": {},
   "outputs": [],
   "source": []
  }
 ],
 "metadata": {
  "kernelspec": {
   "display_name": "Python 3",
   "language": "python",
   "name": "python3"
  },
  "language_info": {
   "codemirror_mode": {
    "name": "ipython",
    "version": 3
   },
   "file_extension": ".py",
   "mimetype": "text/x-python",
   "name": "python",
   "nbconvert_exporter": "python",
   "pygments_lexer": "ipython3",
   "version": "3.5.2"
  }
 },
 "nbformat": 4,
 "nbformat_minor": 2
}
